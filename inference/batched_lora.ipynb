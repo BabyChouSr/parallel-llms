{
 "cells": [
  {
   "cell_type": "code",
   "execution_count": 1,
   "metadata": {},
   "outputs": [
    {
     "name": "stdout",
     "output_type": "stream",
     "text": [
      "\n",
      "===================================BUG REPORT===================================\n",
      "Welcome to bitsandbytes. For bug reports, please run\n",
      "\n",
      "python -m bitsandbytes\n",
      "\n",
      " and submit this information together with your error trace to: https://github.com/TimDettmers/bitsandbytes/issues\n",
      "================================================================================\n",
      "bin /data/chris/anaconda3/envs/fastchat-env/lib/python3.8/site-packages/bitsandbytes/libbitsandbytes_cuda117_nocublaslt.so\n",
      "CUDA SETUP: CUDA runtime path found: /data/chris/anaconda3/envs/fastchat-env/lib/libcudart.so\n",
      "CUDA SETUP: Highest compute capability among GPUs detected: 6.1\n",
      "CUDA SETUP: Detected CUDA version 117\n",
      "CUDA SETUP: Loading binary /data/chris/anaconda3/envs/fastchat-env/lib/python3.8/site-packages/bitsandbytes/libbitsandbytes_cuda117_nocublaslt.so...\n"
     ]
    },
    {
     "name": "stderr",
     "output_type": "stream",
     "text": [
      "/data/chris/anaconda3/envs/fastchat-env/lib/python3.8/site-packages/bitsandbytes/cuda_setup/main.py:149: UserWarning: Found duplicate ['libcudart.so', 'libcudart.so.11.0', 'libcudart.so.12.0'] files: {PosixPath('/data/chris/anaconda3/envs/fastchat-env/lib/libcudart.so'), PosixPath('/data/chris/anaconda3/envs/fastchat-env/lib/libcudart.so.11.0')}.. We'll flip a coin and try one of these, in order to fail forward.\n",
      "Either way, this might cause trouble in the future:\n",
      "If you get `CUDA error: invalid device function` errors, the above might be the cause and the solution is to make sure only one ['libcudart.so', 'libcudart.so.11.0', 'libcudart.so.12.0'] in the paths that we search based on your env.\n",
      "  warn(msg)\n",
      "/data/chris/anaconda3/envs/fastchat-env/lib/python3.8/site-packages/bitsandbytes/cuda_setup/main.py:149: UserWarning: WARNING: Compute capability < 7.5 detected! Only slow 8-bit matmul is supported for your GPU!\n",
      "  warn(msg)\n"
     ]
    }
   ],
   "source": [
    "from transformers import OPTForCausalLM, AutoTokenizer, GenerationConfig, BitsAndBytesConfig\n",
    "from peft import get_peft_model, PeftModel, PeftConfig, get_peft_config, LoraConfig"
   ]
  },
  {
   "cell_type": "code",
   "execution_count": 2,
   "metadata": {},
   "outputs": [],
   "source": [
    "double_quant_config = BitsAndBytesConfig(\n",
    "    load_in_4bit=True,\n",
    "    bnb_4bit_use_double_quant=True,\n",
    "    quant_dtype=\"nf4\"\n",
    ")\n",
    "\n",
    "base_model = OPTForCausalLM.from_pretrained(\"facebook/opt-125m\")\n",
    "tokenizer = AutoTokenizer.from_pretrained(\"facebook/opt-125m\")"
   ]
  },
  {
   "cell_type": "code",
   "execution_count": 3,
   "metadata": {},
   "outputs": [
    {
     "data": {
      "text/plain": [
       "_IncompatibleKeys(missing_keys=['base_model.model.model.decoder.embed_tokens.weight', 'base_model.model.model.decoder.embed_positions.weight', 'base_model.model.model.decoder.final_layer_norm.weight', 'base_model.model.model.decoder.final_layer_norm.bias', 'base_model.model.model.decoder.layers.0.self_attn.k_proj.weight', 'base_model.model.model.decoder.layers.0.self_attn.k_proj.bias', 'base_model.model.model.decoder.layers.0.self_attn.v_proj.weight', 'base_model.model.model.decoder.layers.0.self_attn.v_proj.bias', 'base_model.model.model.decoder.layers.0.self_attn.v_proj.lora_A.dummy-lora-one.weight', 'base_model.model.model.decoder.layers.0.self_attn.v_proj.lora_B.dummy-lora-one.weight', 'base_model.model.model.decoder.layers.0.self_attn.q_proj.weight', 'base_model.model.model.decoder.layers.0.self_attn.q_proj.bias', 'base_model.model.model.decoder.layers.0.self_attn.q_proj.lora_A.dummy-lora-one.weight', 'base_model.model.model.decoder.layers.0.self_attn.q_proj.lora_B.dummy-lora-one.weight', 'base_model.model.model.decoder.layers.0.self_attn.out_proj.weight', 'base_model.model.model.decoder.layers.0.self_attn.out_proj.bias', 'base_model.model.model.decoder.layers.0.self_attn_layer_norm.weight', 'base_model.model.model.decoder.layers.0.self_attn_layer_norm.bias', 'base_model.model.model.decoder.layers.0.fc1.weight', 'base_model.model.model.decoder.layers.0.fc1.bias', 'base_model.model.model.decoder.layers.0.fc2.weight', 'base_model.model.model.decoder.layers.0.fc2.bias', 'base_model.model.model.decoder.layers.0.final_layer_norm.weight', 'base_model.model.model.decoder.layers.0.final_layer_norm.bias', 'base_model.model.model.decoder.layers.1.self_attn.k_proj.weight', 'base_model.model.model.decoder.layers.1.self_attn.k_proj.bias', 'base_model.model.model.decoder.layers.1.self_attn.v_proj.weight', 'base_model.model.model.decoder.layers.1.self_attn.v_proj.bias', 'base_model.model.model.decoder.layers.1.self_attn.v_proj.lora_A.dummy-lora-one.weight', 'base_model.model.model.decoder.layers.1.self_attn.v_proj.lora_B.dummy-lora-one.weight', 'base_model.model.model.decoder.layers.1.self_attn.q_proj.weight', 'base_model.model.model.decoder.layers.1.self_attn.q_proj.bias', 'base_model.model.model.decoder.layers.1.self_attn.q_proj.lora_A.dummy-lora-one.weight', 'base_model.model.model.decoder.layers.1.self_attn.q_proj.lora_B.dummy-lora-one.weight', 'base_model.model.model.decoder.layers.1.self_attn.out_proj.weight', 'base_model.model.model.decoder.layers.1.self_attn.out_proj.bias', 'base_model.model.model.decoder.layers.1.self_attn_layer_norm.weight', 'base_model.model.model.decoder.layers.1.self_attn_layer_norm.bias', 'base_model.model.model.decoder.layers.1.fc1.weight', 'base_model.model.model.decoder.layers.1.fc1.bias', 'base_model.model.model.decoder.layers.1.fc2.weight', 'base_model.model.model.decoder.layers.1.fc2.bias', 'base_model.model.model.decoder.layers.1.final_layer_norm.weight', 'base_model.model.model.decoder.layers.1.final_layer_norm.bias', 'base_model.model.model.decoder.layers.2.self_attn.k_proj.weight', 'base_model.model.model.decoder.layers.2.self_attn.k_proj.bias', 'base_model.model.model.decoder.layers.2.self_attn.v_proj.weight', 'base_model.model.model.decoder.layers.2.self_attn.v_proj.bias', 'base_model.model.model.decoder.layers.2.self_attn.v_proj.lora_A.dummy-lora-one.weight', 'base_model.model.model.decoder.layers.2.self_attn.v_proj.lora_B.dummy-lora-one.weight', 'base_model.model.model.decoder.layers.2.self_attn.q_proj.weight', 'base_model.model.model.decoder.layers.2.self_attn.q_proj.bias', 'base_model.model.model.decoder.layers.2.self_attn.q_proj.lora_A.dummy-lora-one.weight', 'base_model.model.model.decoder.layers.2.self_attn.q_proj.lora_B.dummy-lora-one.weight', 'base_model.model.model.decoder.layers.2.self_attn.out_proj.weight', 'base_model.model.model.decoder.layers.2.self_attn.out_proj.bias', 'base_model.model.model.decoder.layers.2.self_attn_layer_norm.weight', 'base_model.model.model.decoder.layers.2.self_attn_layer_norm.bias', 'base_model.model.model.decoder.layers.2.fc1.weight', 'base_model.model.model.decoder.layers.2.fc1.bias', 'base_model.model.model.decoder.layers.2.fc2.weight', 'base_model.model.model.decoder.layers.2.fc2.bias', 'base_model.model.model.decoder.layers.2.final_layer_norm.weight', 'base_model.model.model.decoder.layers.2.final_layer_norm.bias', 'base_model.model.model.decoder.layers.3.self_attn.k_proj.weight', 'base_model.model.model.decoder.layers.3.self_attn.k_proj.bias', 'base_model.model.model.decoder.layers.3.self_attn.v_proj.weight', 'base_model.model.model.decoder.layers.3.self_attn.v_proj.bias', 'base_model.model.model.decoder.layers.3.self_attn.v_proj.lora_A.dummy-lora-one.weight', 'base_model.model.model.decoder.layers.3.self_attn.v_proj.lora_B.dummy-lora-one.weight', 'base_model.model.model.decoder.layers.3.self_attn.q_proj.weight', 'base_model.model.model.decoder.layers.3.self_attn.q_proj.bias', 'base_model.model.model.decoder.layers.3.self_attn.q_proj.lora_A.dummy-lora-one.weight', 'base_model.model.model.decoder.layers.3.self_attn.q_proj.lora_B.dummy-lora-one.weight', 'base_model.model.model.decoder.layers.3.self_attn.out_proj.weight', 'base_model.model.model.decoder.layers.3.self_attn.out_proj.bias', 'base_model.model.model.decoder.layers.3.self_attn_layer_norm.weight', 'base_model.model.model.decoder.layers.3.self_attn_layer_norm.bias', 'base_model.model.model.decoder.layers.3.fc1.weight', 'base_model.model.model.decoder.layers.3.fc1.bias', 'base_model.model.model.decoder.layers.3.fc2.weight', 'base_model.model.model.decoder.layers.3.fc2.bias', 'base_model.model.model.decoder.layers.3.final_layer_norm.weight', 'base_model.model.model.decoder.layers.3.final_layer_norm.bias', 'base_model.model.model.decoder.layers.4.self_attn.k_proj.weight', 'base_model.model.model.decoder.layers.4.self_attn.k_proj.bias', 'base_model.model.model.decoder.layers.4.self_attn.v_proj.weight', 'base_model.model.model.decoder.layers.4.self_attn.v_proj.bias', 'base_model.model.model.decoder.layers.4.self_attn.v_proj.lora_A.dummy-lora-one.weight', 'base_model.model.model.decoder.layers.4.self_attn.v_proj.lora_B.dummy-lora-one.weight', 'base_model.model.model.decoder.layers.4.self_attn.q_proj.weight', 'base_model.model.model.decoder.layers.4.self_attn.q_proj.bias', 'base_model.model.model.decoder.layers.4.self_attn.q_proj.lora_A.dummy-lora-one.weight', 'base_model.model.model.decoder.layers.4.self_attn.q_proj.lora_B.dummy-lora-one.weight', 'base_model.model.model.decoder.layers.4.self_attn.out_proj.weight', 'base_model.model.model.decoder.layers.4.self_attn.out_proj.bias', 'base_model.model.model.decoder.layers.4.self_attn_layer_norm.weight', 'base_model.model.model.decoder.layers.4.self_attn_layer_norm.bias', 'base_model.model.model.decoder.layers.4.fc1.weight', 'base_model.model.model.decoder.layers.4.fc1.bias', 'base_model.model.model.decoder.layers.4.fc2.weight', 'base_model.model.model.decoder.layers.4.fc2.bias', 'base_model.model.model.decoder.layers.4.final_layer_norm.weight', 'base_model.model.model.decoder.layers.4.final_layer_norm.bias', 'base_model.model.model.decoder.layers.5.self_attn.k_proj.weight', 'base_model.model.model.decoder.layers.5.self_attn.k_proj.bias', 'base_model.model.model.decoder.layers.5.self_attn.v_proj.weight', 'base_model.model.model.decoder.layers.5.self_attn.v_proj.bias', 'base_model.model.model.decoder.layers.5.self_attn.v_proj.lora_A.dummy-lora-one.weight', 'base_model.model.model.decoder.layers.5.self_attn.v_proj.lora_B.dummy-lora-one.weight', 'base_model.model.model.decoder.layers.5.self_attn.q_proj.weight', 'base_model.model.model.decoder.layers.5.self_attn.q_proj.bias', 'base_model.model.model.decoder.layers.5.self_attn.q_proj.lora_A.dummy-lora-one.weight', 'base_model.model.model.decoder.layers.5.self_attn.q_proj.lora_B.dummy-lora-one.weight', 'base_model.model.model.decoder.layers.5.self_attn.out_proj.weight', 'base_model.model.model.decoder.layers.5.self_attn.out_proj.bias', 'base_model.model.model.decoder.layers.5.self_attn_layer_norm.weight', 'base_model.model.model.decoder.layers.5.self_attn_layer_norm.bias', 'base_model.model.model.decoder.layers.5.fc1.weight', 'base_model.model.model.decoder.layers.5.fc1.bias', 'base_model.model.model.decoder.layers.5.fc2.weight', 'base_model.model.model.decoder.layers.5.fc2.bias', 'base_model.model.model.decoder.layers.5.final_layer_norm.weight', 'base_model.model.model.decoder.layers.5.final_layer_norm.bias', 'base_model.model.model.decoder.layers.6.self_attn.k_proj.weight', 'base_model.model.model.decoder.layers.6.self_attn.k_proj.bias', 'base_model.model.model.decoder.layers.6.self_attn.v_proj.weight', 'base_model.model.model.decoder.layers.6.self_attn.v_proj.bias', 'base_model.model.model.decoder.layers.6.self_attn.v_proj.lora_A.dummy-lora-one.weight', 'base_model.model.model.decoder.layers.6.self_attn.v_proj.lora_B.dummy-lora-one.weight', 'base_model.model.model.decoder.layers.6.self_attn.q_proj.weight', 'base_model.model.model.decoder.layers.6.self_attn.q_proj.bias', 'base_model.model.model.decoder.layers.6.self_attn.q_proj.lora_A.dummy-lora-one.weight', 'base_model.model.model.decoder.layers.6.self_attn.q_proj.lora_B.dummy-lora-one.weight', 'base_model.model.model.decoder.layers.6.self_attn.out_proj.weight', 'base_model.model.model.decoder.layers.6.self_attn.out_proj.bias', 'base_model.model.model.decoder.layers.6.self_attn_layer_norm.weight', 'base_model.model.model.decoder.layers.6.self_attn_layer_norm.bias', 'base_model.model.model.decoder.layers.6.fc1.weight', 'base_model.model.model.decoder.layers.6.fc1.bias', 'base_model.model.model.decoder.layers.6.fc2.weight', 'base_model.model.model.decoder.layers.6.fc2.bias', 'base_model.model.model.decoder.layers.6.final_layer_norm.weight', 'base_model.model.model.decoder.layers.6.final_layer_norm.bias', 'base_model.model.model.decoder.layers.7.self_attn.k_proj.weight', 'base_model.model.model.decoder.layers.7.self_attn.k_proj.bias', 'base_model.model.model.decoder.layers.7.self_attn.v_proj.weight', 'base_model.model.model.decoder.layers.7.self_attn.v_proj.bias', 'base_model.model.model.decoder.layers.7.self_attn.v_proj.lora_A.dummy-lora-one.weight', 'base_model.model.model.decoder.layers.7.self_attn.v_proj.lora_B.dummy-lora-one.weight', 'base_model.model.model.decoder.layers.7.self_attn.q_proj.weight', 'base_model.model.model.decoder.layers.7.self_attn.q_proj.bias', 'base_model.model.model.decoder.layers.7.self_attn.q_proj.lora_A.dummy-lora-one.weight', 'base_model.model.model.decoder.layers.7.self_attn.q_proj.lora_B.dummy-lora-one.weight', 'base_model.model.model.decoder.layers.7.self_attn.out_proj.weight', 'base_model.model.model.decoder.layers.7.self_attn.out_proj.bias', 'base_model.model.model.decoder.layers.7.self_attn_layer_norm.weight', 'base_model.model.model.decoder.layers.7.self_attn_layer_norm.bias', 'base_model.model.model.decoder.layers.7.fc1.weight', 'base_model.model.model.decoder.layers.7.fc1.bias', 'base_model.model.model.decoder.layers.7.fc2.weight', 'base_model.model.model.decoder.layers.7.fc2.bias', 'base_model.model.model.decoder.layers.7.final_layer_norm.weight', 'base_model.model.model.decoder.layers.7.final_layer_norm.bias', 'base_model.model.model.decoder.layers.8.self_attn.k_proj.weight', 'base_model.model.model.decoder.layers.8.self_attn.k_proj.bias', 'base_model.model.model.decoder.layers.8.self_attn.v_proj.weight', 'base_model.model.model.decoder.layers.8.self_attn.v_proj.bias', 'base_model.model.model.decoder.layers.8.self_attn.v_proj.lora_A.dummy-lora-one.weight', 'base_model.model.model.decoder.layers.8.self_attn.v_proj.lora_B.dummy-lora-one.weight', 'base_model.model.model.decoder.layers.8.self_attn.q_proj.weight', 'base_model.model.model.decoder.layers.8.self_attn.q_proj.bias', 'base_model.model.model.decoder.layers.8.self_attn.q_proj.lora_A.dummy-lora-one.weight', 'base_model.model.model.decoder.layers.8.self_attn.q_proj.lora_B.dummy-lora-one.weight', 'base_model.model.model.decoder.layers.8.self_attn.out_proj.weight', 'base_model.model.model.decoder.layers.8.self_attn.out_proj.bias', 'base_model.model.model.decoder.layers.8.self_attn_layer_norm.weight', 'base_model.model.model.decoder.layers.8.self_attn_layer_norm.bias', 'base_model.model.model.decoder.layers.8.fc1.weight', 'base_model.model.model.decoder.layers.8.fc1.bias', 'base_model.model.model.decoder.layers.8.fc2.weight', 'base_model.model.model.decoder.layers.8.fc2.bias', 'base_model.model.model.decoder.layers.8.final_layer_norm.weight', 'base_model.model.model.decoder.layers.8.final_layer_norm.bias', 'base_model.model.model.decoder.layers.9.self_attn.k_proj.weight', 'base_model.model.model.decoder.layers.9.self_attn.k_proj.bias', 'base_model.model.model.decoder.layers.9.self_attn.v_proj.weight', 'base_model.model.model.decoder.layers.9.self_attn.v_proj.bias', 'base_model.model.model.decoder.layers.9.self_attn.v_proj.lora_A.dummy-lora-one.weight', 'base_model.model.model.decoder.layers.9.self_attn.v_proj.lora_B.dummy-lora-one.weight', 'base_model.model.model.decoder.layers.9.self_attn.q_proj.weight', 'base_model.model.model.decoder.layers.9.self_attn.q_proj.bias', 'base_model.model.model.decoder.layers.9.self_attn.q_proj.lora_A.dummy-lora-one.weight', 'base_model.model.model.decoder.layers.9.self_attn.q_proj.lora_B.dummy-lora-one.weight', 'base_model.model.model.decoder.layers.9.self_attn.out_proj.weight', 'base_model.model.model.decoder.layers.9.self_attn.out_proj.bias', 'base_model.model.model.decoder.layers.9.self_attn_layer_norm.weight', 'base_model.model.model.decoder.layers.9.self_attn_layer_norm.bias', 'base_model.model.model.decoder.layers.9.fc1.weight', 'base_model.model.model.decoder.layers.9.fc1.bias', 'base_model.model.model.decoder.layers.9.fc2.weight', 'base_model.model.model.decoder.layers.9.fc2.bias', 'base_model.model.model.decoder.layers.9.final_layer_norm.weight', 'base_model.model.model.decoder.layers.9.final_layer_norm.bias', 'base_model.model.model.decoder.layers.10.self_attn.k_proj.weight', 'base_model.model.model.decoder.layers.10.self_attn.k_proj.bias', 'base_model.model.model.decoder.layers.10.self_attn.v_proj.weight', 'base_model.model.model.decoder.layers.10.self_attn.v_proj.bias', 'base_model.model.model.decoder.layers.10.self_attn.v_proj.lora_A.dummy-lora-one.weight', 'base_model.model.model.decoder.layers.10.self_attn.v_proj.lora_B.dummy-lora-one.weight', 'base_model.model.model.decoder.layers.10.self_attn.q_proj.weight', 'base_model.model.model.decoder.layers.10.self_attn.q_proj.bias', 'base_model.model.model.decoder.layers.10.self_attn.q_proj.lora_A.dummy-lora-one.weight', 'base_model.model.model.decoder.layers.10.self_attn.q_proj.lora_B.dummy-lora-one.weight', 'base_model.model.model.decoder.layers.10.self_attn.out_proj.weight', 'base_model.model.model.decoder.layers.10.self_attn.out_proj.bias', 'base_model.model.model.decoder.layers.10.self_attn_layer_norm.weight', 'base_model.model.model.decoder.layers.10.self_attn_layer_norm.bias', 'base_model.model.model.decoder.layers.10.fc1.weight', 'base_model.model.model.decoder.layers.10.fc1.bias', 'base_model.model.model.decoder.layers.10.fc2.weight', 'base_model.model.model.decoder.layers.10.fc2.bias', 'base_model.model.model.decoder.layers.10.final_layer_norm.weight', 'base_model.model.model.decoder.layers.10.final_layer_norm.bias', 'base_model.model.model.decoder.layers.11.self_attn.k_proj.weight', 'base_model.model.model.decoder.layers.11.self_attn.k_proj.bias', 'base_model.model.model.decoder.layers.11.self_attn.v_proj.weight', 'base_model.model.model.decoder.layers.11.self_attn.v_proj.bias', 'base_model.model.model.decoder.layers.11.self_attn.v_proj.lora_A.dummy-lora-one.weight', 'base_model.model.model.decoder.layers.11.self_attn.v_proj.lora_B.dummy-lora-one.weight', 'base_model.model.model.decoder.layers.11.self_attn.q_proj.weight', 'base_model.model.model.decoder.layers.11.self_attn.q_proj.bias', 'base_model.model.model.decoder.layers.11.self_attn.q_proj.lora_A.dummy-lora-one.weight', 'base_model.model.model.decoder.layers.11.self_attn.q_proj.lora_B.dummy-lora-one.weight', 'base_model.model.model.decoder.layers.11.self_attn.out_proj.weight', 'base_model.model.model.decoder.layers.11.self_attn.out_proj.bias', 'base_model.model.model.decoder.layers.11.self_attn_layer_norm.weight', 'base_model.model.model.decoder.layers.11.self_attn_layer_norm.bias', 'base_model.model.model.decoder.layers.11.fc1.weight', 'base_model.model.model.decoder.layers.11.fc1.bias', 'base_model.model.model.decoder.layers.11.fc2.weight', 'base_model.model.model.decoder.layers.11.fc2.bias', 'base_model.model.model.decoder.layers.11.final_layer_norm.weight', 'base_model.model.model.decoder.layers.11.final_layer_norm.bias', 'base_model.model.lm_head.weight'], unexpected_keys=[])"
      ]
     },
     "execution_count": 3,
     "metadata": {},
     "output_type": "execute_result"
    }
   ],
   "source": [
    "# https://github.com/oobabooga/text-generation-webui/blob/63ece46213483b9b2692a9e4299cf3cd0ed7adb2/modules/LoRA.py#L91\n",
    "model = PeftModel.from_pretrained(base_model, '/data/chris/adapters/peft-opt125m-dummylora', adapter_name=\"dummy-lora-one\")\n",
    "model.load_adapter('/data/chris/adapters/peft-opt125m-dummylora2', adapter_name=\"dummy-lora-two\")"
   ]
  },
  {
   "cell_type": "code",
   "execution_count": 4,
   "metadata": {},
   "outputs": [],
   "source": [
    "import torch\n",
    "\n",
    "device = \"cuda\"\n",
    "\n",
    "\n",
    "def generate_prompt(instruction, input=None):\n",
    "    if input:\n",
    "        return f\"\"\"Below is an instruction that describes a task, paired with an input that provides further context. Write a response that appropriately completes the request.\n",
    "### Instruction:\n",
    "{instruction}\n",
    "### Input:\n",
    "{input}\n",
    "### Response:\"\"\"\n",
    "    else:\n",
    "        return f\"\"\"Below is an instruction that describes a task. Write a response that appropriately completes the request.\n",
    "### Instruction:\n",
    "{instruction}\n",
    "### Response:\"\"\"\n",
    "\n",
    "\n",
    "def evaluate(\n",
    "    instruction,\n",
    "    input=None,\n",
    "    temperature=0.1,\n",
    "    top_p=0.75,\n",
    "    top_k=40,\n",
    "    num_beams=4,\n",
    "    max_new_tokens=256,\n",
    "    **kwargs,\n",
    "):\n",
    "    prompt = generate_prompt(instruction, input)\n",
    "    inputs = tokenizer(prompt, return_tensors=\"pt\")\n",
    "    input_ids = inputs[\"input_ids\"].to(device)\n",
    "    generation_config = GenerationConfig(\n",
    "        temperature=temperature,\n",
    "        top_p=top_p,\n",
    "        top_k=top_k,\n",
    "        num_beams=num_beams,\n",
    "        no_repeat_ngram_size=3,\n",
    "        **kwargs,\n",
    "    )\n",
    "\n",
    "    with torch.no_grad():\n",
    "        generation_output = model.generate(\n",
    "            input_ids=input_ids,\n",
    "            generation_config=generation_config,\n",
    "            return_dict_in_generate=True,\n",
    "            output_scores=True,\n",
    "            max_new_tokens=max_new_tokens,\n",
    "        )\n",
    "    s = generation_output.sequences[0]\n",
    "    output = tokenizer.decode(s)\n",
    "    return output.split(\"### Response:\")[1].strip()"
   ]
  },
  {
   "cell_type": "code",
   "execution_count": 5,
   "metadata": {},
   "outputs": [
    {
     "data": {
      "text/plain": [
       "PeftModelForCausalLM(\n",
       "  (base_model): LoraModel(\n",
       "    (model): OPTForCausalLM(\n",
       "      (model): OPTModel(\n",
       "        (decoder): OPTDecoder(\n",
       "          (embed_tokens): Embedding(50272, 768, padding_idx=1)\n",
       "          (embed_positions): OPTLearnedPositionalEmbedding(2050, 768)\n",
       "          (final_layer_norm): LayerNorm((768,), eps=1e-05, elementwise_affine=True)\n",
       "          (layers): ModuleList(\n",
       "            (0-11): 12 x OPTDecoderLayer(\n",
       "              (self_attn): OPTAttention(\n",
       "                (k_proj): Linear(in_features=768, out_features=768, bias=True)\n",
       "                (v_proj): Linear(\n",
       "                  in_features=768, out_features=768, bias=True\n",
       "                  (lora_dropout): ModuleDict(\n",
       "                    (dummy-lora-one): Dropout(p=0.05, inplace=False)\n",
       "                    (dummy-lora-two): Dropout(p=0.05, inplace=False)\n",
       "                  )\n",
       "                  (lora_A): ModuleDict(\n",
       "                    (dummy-lora-one): Linear(in_features=768, out_features=8, bias=False)\n",
       "                    (dummy-lora-two): Linear(in_features=768, out_features=8, bias=False)\n",
       "                  )\n",
       "                  (lora_B): ModuleDict(\n",
       "                    (dummy-lora-one): Linear(in_features=8, out_features=768, bias=False)\n",
       "                    (dummy-lora-two): Linear(in_features=8, out_features=768, bias=False)\n",
       "                  )\n",
       "                  (lora_embedding_A): ParameterDict()\n",
       "                  (lora_embedding_B): ParameterDict()\n",
       "                )\n",
       "                (q_proj): Linear(\n",
       "                  in_features=768, out_features=768, bias=True\n",
       "                  (lora_dropout): ModuleDict(\n",
       "                    (dummy-lora-one): Dropout(p=0.05, inplace=False)\n",
       "                    (dummy-lora-two): Dropout(p=0.05, inplace=False)\n",
       "                  )\n",
       "                  (lora_A): ModuleDict(\n",
       "                    (dummy-lora-one): Linear(in_features=768, out_features=8, bias=False)\n",
       "                    (dummy-lora-two): Linear(in_features=768, out_features=8, bias=False)\n",
       "                  )\n",
       "                  (lora_B): ModuleDict(\n",
       "                    (dummy-lora-one): Linear(in_features=8, out_features=768, bias=False)\n",
       "                    (dummy-lora-two): Linear(in_features=8, out_features=768, bias=False)\n",
       "                  )\n",
       "                  (lora_embedding_A): ParameterDict()\n",
       "                  (lora_embedding_B): ParameterDict()\n",
       "                )\n",
       "                (out_proj): Linear(in_features=768, out_features=768, bias=True)\n",
       "              )\n",
       "              (activation_fn): ReLU()\n",
       "              (self_attn_layer_norm): LayerNorm((768,), eps=1e-05, elementwise_affine=True)\n",
       "              (fc1): Linear(in_features=768, out_features=3072, bias=True)\n",
       "              (fc2): Linear(in_features=3072, out_features=768, bias=True)\n",
       "              (final_layer_norm): LayerNorm((768,), eps=1e-05, elementwise_affine=True)\n",
       "            )\n",
       "          )\n",
       "        )\n",
       "      )\n",
       "      (lm_head): Linear(in_features=768, out_features=50272, bias=False)\n",
       "    )\n",
       "  )\n",
       ")"
      ]
     },
     "execution_count": 5,
     "metadata": {},
     "output_type": "execute_result"
    }
   ],
   "source": [
    "model.to('cuda')"
   ]
  },
  {
   "cell_type": "code",
   "execution_count": 9,
   "metadata": {},
   "outputs": [],
   "source": [
    "model.set_adapter(\"dummy-lora-two\")"
   ]
  },
  {
   "cell_type": "code",
   "execution_count": 10,
   "metadata": {},
   "outputs": [
    {
     "name": "stdout",
     "output_type": "stream",
     "text": [
      "</s>\n"
     ]
    }
   ],
   "source": [
    "instruction = \"Tell me about alpacas.\"\n",
    "\n",
    "print(evaluate(instruction))"
   ]
  },
  {
   "cell_type": "code",
   "execution_count": null,
   "metadata": {},
   "outputs": [],
   "source": []
  }
 ],
 "metadata": {
  "kernelspec": {
   "display_name": "fastchat-env",
   "language": "python",
   "name": "python3"
  },
  "language_info": {
   "codemirror_mode": {
    "name": "ipython",
    "version": 3
   },
   "file_extension": ".py",
   "mimetype": "text/x-python",
   "name": "python",
   "nbconvert_exporter": "python",
   "pygments_lexer": "ipython3",
   "version": "3.8.16"
  },
  "orig_nbformat": 4
 },
 "nbformat": 4,
 "nbformat_minor": 2
}
